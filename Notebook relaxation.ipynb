{
 "cells": [
  {
   "cell_type": "markdown",
   "source": [
    "Bubble diagram / dynamic relaxation\r\n",
    "\r\n"
   ],
   "metadata": {}
  },
  {
   "cell_type": "code",
   "execution_count": 3,
   "source": [
    "import pandas as pd"
   ],
   "outputs": [],
   "metadata": {}
  },
  {
   "cell_type": "code",
   "execution_count": 4,
   "source": [
    "#inputs\r\n",
    "\r\n",
    "#number of specific function\r\n",
    "num_shop = 6\r\n",
    "num_square = 2\r\n",
    "num_workshop = num_shop // 2\r\n",
    "num_storage = num_shop\r\n",
    "\r\n",
    "num_functions = num_shop + num_square + num_workshop + num_storage\r\n",
    "functions = [\"shop\"] * num_shop + [\"square\"] * num_square + [\"workshop\"] * num_workshop + [\"storage\"] * num_storage\r\n",
    "print(\"Total number of functions:\",num_functions)\r\n",
    "\r\n",
    "#m2\r\n",
    "area = {\r\n",
    "\"shop\" : 30,\r\n",
    "\"square\" : 2500,\r\n",
    "\"workshop\" : 60,\r\n",
    "\"storage\" : 10\r\n",
    "}"
   ],
   "outputs": [
    {
     "output_type": "stream",
     "name": "stdout",
     "text": [
      "Total number of functions: 17\n"
     ]
    }
   ],
   "metadata": {}
  },
  {
   "cell_type": "code",
   "execution_count": 5,
   "source": [
    "#make a table with all the data regardinf the functions\r\n",
    "\r\n",
    "last_function = \"\"\r\n",
    "i = 0\r\n",
    "function_data = []\r\n",
    "for func in functions:\r\n",
    "    if last_function != func:\r\n",
    "        i = 0\r\n",
    "    function_data.append([func, i, area[func]])\r\n",
    "    last_function = func\r\n",
    "    i += 1\r\n",
    "\r\n",
    "pd.DataFrame(function_data, columns=[\"function_name\", \"space_index\", \"area\"])"
   ],
   "outputs": [
    {
     "output_type": "execute_result",
     "data": {
      "text/html": [
       "<div>\n",
       "<style scoped>\n",
       "    .dataframe tbody tr th:only-of-type {\n",
       "        vertical-align: middle;\n",
       "    }\n",
       "\n",
       "    .dataframe tbody tr th {\n",
       "        vertical-align: top;\n",
       "    }\n",
       "\n",
       "    .dataframe thead th {\n",
       "        text-align: right;\n",
       "    }\n",
       "</style>\n",
       "<table border=\"1\" class=\"dataframe\">\n",
       "  <thead>\n",
       "    <tr style=\"text-align: right;\">\n",
       "      <th></th>\n",
       "      <th>function_name</th>\n",
       "      <th>space_index</th>\n",
       "      <th>area</th>\n",
       "    </tr>\n",
       "  </thead>\n",
       "  <tbody>\n",
       "    <tr>\n",
       "      <th>0</th>\n",
       "      <td>shop</td>\n",
       "      <td>0</td>\n",
       "      <td>30</td>\n",
       "    </tr>\n",
       "    <tr>\n",
       "      <th>1</th>\n",
       "      <td>shop</td>\n",
       "      <td>1</td>\n",
       "      <td>30</td>\n",
       "    </tr>\n",
       "    <tr>\n",
       "      <th>2</th>\n",
       "      <td>shop</td>\n",
       "      <td>2</td>\n",
       "      <td>30</td>\n",
       "    </tr>\n",
       "    <tr>\n",
       "      <th>3</th>\n",
       "      <td>shop</td>\n",
       "      <td>3</td>\n",
       "      <td>30</td>\n",
       "    </tr>\n",
       "    <tr>\n",
       "      <th>4</th>\n",
       "      <td>shop</td>\n",
       "      <td>4</td>\n",
       "      <td>30</td>\n",
       "    </tr>\n",
       "    <tr>\n",
       "      <th>5</th>\n",
       "      <td>shop</td>\n",
       "      <td>5</td>\n",
       "      <td>30</td>\n",
       "    </tr>\n",
       "    <tr>\n",
       "      <th>6</th>\n",
       "      <td>square</td>\n",
       "      <td>0</td>\n",
       "      <td>2500</td>\n",
       "    </tr>\n",
       "    <tr>\n",
       "      <th>7</th>\n",
       "      <td>square</td>\n",
       "      <td>1</td>\n",
       "      <td>2500</td>\n",
       "    </tr>\n",
       "    <tr>\n",
       "      <th>8</th>\n",
       "      <td>workshop</td>\n",
       "      <td>0</td>\n",
       "      <td>60</td>\n",
       "    </tr>\n",
       "    <tr>\n",
       "      <th>9</th>\n",
       "      <td>workshop</td>\n",
       "      <td>1</td>\n",
       "      <td>60</td>\n",
       "    </tr>\n",
       "    <tr>\n",
       "      <th>10</th>\n",
       "      <td>workshop</td>\n",
       "      <td>2</td>\n",
       "      <td>60</td>\n",
       "    </tr>\n",
       "    <tr>\n",
       "      <th>11</th>\n",
       "      <td>storage</td>\n",
       "      <td>0</td>\n",
       "      <td>10</td>\n",
       "    </tr>\n",
       "    <tr>\n",
       "      <th>12</th>\n",
       "      <td>storage</td>\n",
       "      <td>1</td>\n",
       "      <td>10</td>\n",
       "    </tr>\n",
       "    <tr>\n",
       "      <th>13</th>\n",
       "      <td>storage</td>\n",
       "      <td>2</td>\n",
       "      <td>10</td>\n",
       "    </tr>\n",
       "    <tr>\n",
       "      <th>14</th>\n",
       "      <td>storage</td>\n",
       "      <td>3</td>\n",
       "      <td>10</td>\n",
       "    </tr>\n",
       "    <tr>\n",
       "      <th>15</th>\n",
       "      <td>storage</td>\n",
       "      <td>4</td>\n",
       "      <td>10</td>\n",
       "    </tr>\n",
       "    <tr>\n",
       "      <th>16</th>\n",
       "      <td>storage</td>\n",
       "      <td>5</td>\n",
       "      <td>10</td>\n",
       "    </tr>\n",
       "  </tbody>\n",
       "</table>\n",
       "</div>"
      ],
      "text/plain": [
       "   function_name  space_index  area\n",
       "0           shop            0    30\n",
       "1           shop            1    30\n",
       "2           shop            2    30\n",
       "3           shop            3    30\n",
       "4           shop            4    30\n",
       "5           shop            5    30\n",
       "6         square            0  2500\n",
       "7         square            1  2500\n",
       "8       workshop            0    60\n",
       "9       workshop            1    60\n",
       "10      workshop            2    60\n",
       "11       storage            0    10\n",
       "12       storage            1    10\n",
       "13       storage            2    10\n",
       "14       storage            3    10\n",
       "15       storage            4    10\n",
       "16       storage            5    10"
      ]
     },
     "metadata": {},
     "execution_count": 5
    }
   ],
   "metadata": {}
  },
  {
   "cell_type": "code",
   "execution_count": 3,
   "source": [
    "#make a matrix with all the functions and area's\r\n",
    "# Func_list = []\r\n",
    "\r\n",
    "# for i in range(num_functions):\r\n",
    "\r\n",
    "#     for j in range(num_shop):\r\n",
    "#         Func_list.append(i,\"shop\" j, area_shop)\r\n",
    "\r\n",
    "#     for k in range(num_square):\r\n",
    "#         Func_list.append(i,\"square\" k,area_square)\r\n",
    "    \r\n",
    "#     for l in range(num_storage):\r\n",
    "#         Func_list.append(i,\"storage\" l,area_storage)\r\n",
    "\r\n",
    "#     for m in range(num_workshop):\r\n",
    "#         Func_list.append(i,\"workshop\"m, area_workshop)\r\n"
   ],
   "outputs": [
    {
     "output_type": "error",
     "ename": "SyntaxError",
     "evalue": "invalid syntax (Temp/ipykernel_9028/488900648.py, line 7)",
     "traceback": [
      "\u001b[1;36m  File \u001b[1;32m\"C:\\Users\\jordy\\AppData\\Local\\Temp/ipykernel_9028/488900648.py\"\u001b[1;36m, line \u001b[1;32m7\u001b[0m\n\u001b[1;33m    Func_list.append(i,\"shop\" j, area_shop)\u001b[0m\n\u001b[1;37m                              ^\u001b[0m\n\u001b[1;31mSyntaxError\u001b[0m\u001b[1;31m:\u001b[0m invalid syntax\n"
     ]
    }
   ],
   "metadata": {}
  },
  {
   "cell_type": "code",
   "execution_count": null,
   "source": [
    "#make connections\r\n",
    "\r\n",
    "\r\n",
    "\r\n",
    "#connectivity matrix met getallen tussen 0 en 1 die de kracht van de veer bepalen\r\n",
    "# VV is a matrix with this shape: number of nodes by number of nodes\r\n",
    "VV_shape = (len(num_functions), len(num_functions))\r\n",
    "# Initialize the empty VV\r\n",
    "VV = np.zeros(VV_shape, dtype=int)\r\n",
    "# iterate over the egdes\r\n",
    "for n1, n2 in G_edges:\r\n",
    "    # since the graph is undrirected we fill the matrix \r\n",
    "    # on both side of the diagonal line\r\n",
    "    VV[n1, n2] = 1 \r\n",
    "    VV[n2, n1] = 1\r\n",
    "\r\n",
    "# display as pandas dataframe\r\n",
    "display(pd.DataFrame(VV))"
   ],
   "outputs": [],
   "metadata": {}
  },
  {
   "cell_type": "code",
   "execution_count": null,
   "source": [
    "#place points\r\n"
   ],
   "outputs": [],
   "metadata": {}
  },
  {
   "cell_type": "code",
   "execution_count": null,
   "source": [
    "#give the points volumes\r\n",
    "\r\n",
    "#per functie een cirkel maken en die plaatsen op de punten zodat je volumes er aan toe wijst"
   ],
   "outputs": [],
   "metadata": {}
  },
  {
   "cell_type": "code",
   "execution_count": null,
   "source": [
    "#give an orientation to the site\r\n",
    "\r\n",
    "#"
   ],
   "outputs": [],
   "metadata": {}
  },
  {
   "cell_type": "code",
   "execution_count": null,
   "source": [
    "#dynamic relaxation to place the functions"
   ],
   "outputs": [],
   "metadata": {}
  }
 ],
 "metadata": {
  "orig_nbformat": 4,
  "language_info": {
   "name": "python",
   "version": "3.8.5",
   "mimetype": "text/x-python",
   "codemirror_mode": {
    "name": "ipython",
    "version": 3
   },
   "pygments_lexer": "ipython3",
   "nbconvert_exporter": "python",
   "file_extension": ".py"
  },
  "kernelspec": {
   "name": "python3",
   "display_name": "Python 3.8.5 64-bit ('earthy': conda)"
  },
  "interpreter": {
   "hash": "4a58c2309791fb0e918c70afdff47f4c1510753c34c4dbd916b25e7d0c14133b"
  }
 },
 "nbformat": 4,
 "nbformat_minor": 2
}