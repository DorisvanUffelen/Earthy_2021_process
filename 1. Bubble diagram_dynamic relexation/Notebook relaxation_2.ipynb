{
 "cells": [
  {
   "cell_type": "markdown",
   "source": [
    "DYNAMIC RELAXATION OF A GRAPH"
   ],
   "metadata": {}
  },
  {
   "cell_type": "code",
   "execution_count": 1,
   "source": [
    "# import needed library's\r\n",
    "import pandas as pd\r\n",
    "import numpy as np"
   ],
   "outputs": [],
   "metadata": {}
  },
  {
   "cell_type": "code",
   "execution_count": 2,
   "source": [
    "#inputs\r\n",
    "\r\n",
    "#number of specific function\r\n",
    "num_shop = 20\r\n",
    "num_square = 2\r\n",
    "num_workshop = num_shop // 2\r\n",
    "num_storage = num_shop\r\n",
    "num_anchors = 4\r\n",
    "\r\n",
    "#create a list with all of the names of all the functions\r\n",
    "functions = [\"anchor\"] * num_anchors + [\"square\"] * num_square + [\"shop\"] * num_shop + [\"storage\"] * num_storage + [\"workshop\"] * num_workshop\r\n",
    "#calculate the total number of functions\r\n",
    "num_functions = len(functions)\r\n",
    "print(\"Total number of functions:\",num_functions)\r\n",
    "\r\n",
    "#m2\r\n",
    "area = {\r\n",
    "\"shop\" : 30,\r\n",
    "\"square\" : 900,\r\n",
    "\"workshop\" : 60,\r\n",
    "\"storage\" : 10,\r\n",
    "\"anchor\" : 1\r\n",
    "}"
   ],
   "outputs": [
    {
     "output_type": "stream",
     "name": "stdout",
     "text": [
      "Total number of functions: 56\n"
     ]
    }
   ],
   "metadata": {}
  },
  {
   "cell_type": "code",
   "execution_count": 3,
   "source": [
    "#make a table with all the data regarding the functions\r\n",
    "\r\n",
    "last_function = \"\"\r\n",
    "i = 0\r\n",
    "function_data = []\r\n",
    "for func in functions:\r\n",
    "    if last_function != func:\r\n",
    "        i = 0\r\n",
    "    space_i = func + str(i)\r\n",
    "    function_data.append([func, space_i, area[func]])\r\n",
    "    last_function = func\r\n",
    "    i += 1\r\n",
    "\r\n",
    "#pd.DataFrame(function_data, columns=[\"function_name\", \"space_index\", \"area\"])"
   ],
   "outputs": [],
   "metadata": {}
  },
  {
   "cell_type": "code",
   "execution_count": 4,
   "source": [],
   "outputs": [
    {
     "output_type": "error",
     "ename": "TypeError",
     "evalue": "write() takes exactly one argument (0 given)",
     "traceback": [
      "\u001b[1;31m---------------------------------------------------------------------------\u001b[0m",
      "\u001b[1;31mTypeError\u001b[0m                                 Traceback (most recent call last)",
      "\u001b[1;32m~\\AppData\\Local\\Temp/ipykernel_25524/277852394.py\u001b[0m in \u001b[0;36m<module>\u001b[1;34m\u001b[0m\n\u001b[0;32m      1\u001b[0m \u001b[0mpython_file\u001b[0m \u001b[1;33m=\u001b[0m \u001b[0mopen\u001b[0m\u001b[1;33m(\u001b[0m\u001b[1;34m\"Points\"\u001b[0m\u001b[1;33m,\u001b[0m \u001b[1;34m\"w\"\u001b[0m\u001b[1;33m)\u001b[0m\u001b[1;33m\u001b[0m\u001b[1;33m\u001b[0m\u001b[0m\n\u001b[1;32m----> 2\u001b[1;33m \u001b[0mpython_file\u001b[0m\u001b[1;33m.\u001b[0m\u001b[0mwrite\u001b[0m\u001b[1;33m(\u001b[0m\u001b[1;33m)\u001b[0m\u001b[1;33m\u001b[0m\u001b[1;33m\u001b[0m\u001b[0m\n\u001b[0m\u001b[0;32m      3\u001b[0m \u001b[0mpython_file\u001b[0m\u001b[1;33m.\u001b[0m\u001b[0mclose\u001b[0m\u001b[1;33m(\u001b[0m\u001b[1;33m)\u001b[0m\u001b[1;33m\u001b[0m\u001b[1;33m\u001b[0m\u001b[0m\n",
      "\u001b[1;31mTypeError\u001b[0m: write() takes exactly one argument (0 given)"
     ]
    }
   ],
   "metadata": {}
  }
 ],
 "metadata": {
  "orig_nbformat": 4,
  "language_info": {
   "name": "python",
   "version": "3.8.5",
   "mimetype": "text/x-python",
   "codemirror_mode": {
    "name": "ipython",
    "version": 3
   },
   "pygments_lexer": "ipython3",
   "nbconvert_exporter": "python",
   "file_extension": ".py"
  },
  "kernelspec": {
   "name": "python3",
   "display_name": "Python 3.8.5 64-bit ('earthy': conda)"
  },
  "interpreter": {
   "hash": "4a58c2309791fb0e918c70afdff47f4c1510753c34c4dbd916b25e7d0c14133b"
  }
 },
 "nbformat": 4,
 "nbformat_minor": 2
}