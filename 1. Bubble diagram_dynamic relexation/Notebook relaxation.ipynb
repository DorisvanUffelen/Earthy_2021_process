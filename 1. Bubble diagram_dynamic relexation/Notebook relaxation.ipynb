{
 "cells": [
  {
   "cell_type": "markdown",
   "source": [
    "Bubble diagram / dynamic relaxation\r\n",
    "\r\n"
   ],
   "metadata": {}
  },
  {
   "cell_type": "code",
   "execution_count": 2,
   "source": [
    "# import needed library's\r\n",
    "import pandas as pd\r\n",
    "import numpy as np\r\n",
    "import networkx as nx\r\n",
    "import pyvista as pv\r\n",
    "from compas.datastructures import Mesh as CompasMesh\r\n",
    "import compas\r\n",
    "import matplotlib.pyplot as plt"
   ],
   "outputs": [],
   "metadata": {}
  },
  {
   "cell_type": "code",
   "execution_count": 3,
   "source": [
    "#inputs\r\n",
    "\r\n",
    "#number of specific function\r\n",
    "num_shop = 20\r\n",
    "num_square = 2\r\n",
    "num_workshop = num_shop // 2\r\n",
    "num_storage = num_shop\r\n",
    "num_anchors = 4\r\n",
    "\r\n",
    "#create a list with all of the names of all the functions\r\n",
    "functions = [\"anchor\"] * num_anchors + [\"square\"] * num_square + [\"shop\"] * num_shop + [\"storage\"] * num_storage + [\"workshop\"] * num_workshop\r\n",
    "#calculate the total number of functions\r\n",
    "num_functions = len(functions)\r\n",
    "print(\"Total number of functions:\",num_functions)\r\n",
    "\r\n",
    "#m2\r\n",
    "area = {\r\n",
    "\"shop\" : 30,\r\n",
    "\"square\" : 900,\r\n",
    "\"workshop\" : 60,\r\n",
    "\"storage\" : 10,\r\n",
    "\"anchor\" : 1\r\n",
    "}"
   ],
   "outputs": [
    {
     "output_type": "stream",
     "name": "stdout",
     "text": [
      "Total number of functions: 56\n"
     ]
    }
   ],
   "metadata": {}
  },
  {
   "cell_type": "code",
   "execution_count": 4,
   "source": [
    "#make a table with all the data regarding the functions\r\n",
    "\r\n",
    "last_function = \"\"\r\n",
    "i = 0\r\n",
    "function_data = []\r\n",
    "for func in functions:\r\n",
    "    if last_function != func:\r\n",
    "        i = 0\r\n",
    "    space_i = func + str(i)\r\n",
    "    function_data.append([func, space_i, area[func]])\r\n",
    "    last_function = func\r\n",
    "    i += 1\r\n",
    "\r\n",
    "#pd.DataFrame(function_data, columns=[\"function_name\", \"space_index\", \"area\"])"
   ],
   "outputs": [],
   "metadata": {}
  },
  {
   "cell_type": "code",
   "execution_count": 5,
   "source": [
    "#create a list to store all of the connections\r\n",
    "con = []\r\n",
    "point = []\r\n",
    "\r\n",
    "#make the node list without other information\r\n",
    "for m in range(num_functions):\r\n",
    "    point.append(m)\r\n",
    "\r\n",
    "#create some empty lists to keep track of items that are already used\r\n",
    "used_shops = []\r\n",
    "used_storage = []\r\n",
    "used_workshop = []\r\n",
    "square_index = []\r\n",
    "used_anchor = []\r\n",
    "ansq_index = []\r\n",
    "\r\n",
    "\r\n",
    "#find all of the connections\r\n",
    "for b in range(num_functions):\r\n",
    "    if function_data[b][0] == 'anchor':       \r\n",
    "        for l in range(num_functions):\r\n",
    "            if function_data[l][0] == 'square':\r\n",
    "                if b not in used_anchor:                      \r\n",
    "                    if len(ansq_index) == num_square:\r\n",
    "                        ansq_index.clear()\r\n",
    "                    if l not in ansq_index:\r\n",
    "                        con.append((b,l))\r\n",
    "                        ansq_index.append(l)\r\n",
    "                        used_anchor.append(b)\r\n",
    "    if function_data[b][0] == 'square':\r\n",
    "        for l in range(num_functions):\r\n",
    "            if function_data[l][0] == 'square':\r\n",
    "                if (b,l) not in con and (l,b) not in con and b != l:\r\n",
    "                    con.append((b,l))\r\n",
    "    st_sh = 0\r\n",
    "    sh_ws = 0\r\n",
    "    if function_data[b][0] == 'shop':\r\n",
    "        for i in range(num_functions):\r\n",
    "            if function_data[i][0] == 'storage':\r\n",
    "                if st_sh < 1:\r\n",
    "                    if i not in used_storage and b != i:\r\n",
    "                        con.append((b,i))\r\n",
    "                        used_storage.append(i)\r\n",
    "                        st_sh = 1\r\n",
    "            if function_data[i][0] == 'workshop':\r\n",
    "                if sh_ws < 1:\r\n",
    "                    if i not in used_workshop and b != i:\r\n",
    "                        con.append((b,i))\r\n",
    "                        used_workshop.append(i)\r\n",
    "                        sh_ws = 1\r\n",
    "            if function_data[i][0] == 'square':\r\n",
    "                if b not in used_shops:\r\n",
    "                    if len(square_index) == num_square:\r\n",
    "                        square_index.clear()\r\n",
    "                    if i not in square_index:\r\n",
    "                        con.append((b,i))\r\n",
    "                        square_index.append(i)\r\n",
    "                        used_shops.append(b)\r\n",
    "\r\n",
    "\r\n",
    "#assign some shops to a second square\r\n",
    "dbl_shop = []\r\n",
    "for b in range(num_functions):\r\n",
    "    dbl = 0\r\n",
    "    d = 0\r\n",
    "    if function_data[b][0] == 'square':\r\n",
    "        for l in range(num_functions):\r\n",
    "            if function_data[l][0] == 'shop':\r\n",
    "                if (b,l) in con or (l,b) in con:\r\n",
    "                    if l not in dbl_shop:\r\n",
    "                        for i in range(num_functions):\r\n",
    "                            if function_data[i][0] == 'square':\r\n",
    "                                if b != i:\r\n",
    "                                    if dbl == 0:\r\n",
    "                                        if i > b:\r\n",
    "                                            con.append((l,i))\r\n",
    "                                            dbl_shop.append(l)\r\n",
    "                                            print('check')\r\n",
    "                                            dbl += 1\r\n",
    "                                        else: d +=1\r\n",
    "                                        if d == num_square-1:\r\n",
    "                                            print(\"check 2\")\r\n",
    "                                            o = 0\r\n",
    "                                            for k in range(num_functions):\r\n",
    "                                                if function_data[k][0] == 'square':\r\n",
    "                                                    if o == 0:\r\n",
    "                                                        con.append((k,l))\r\n",
    "                                                        dbl_shop.append(l)\r\n",
    "                                                        print(\"check 3\")\r\n",
    "                                                        o += 1\r\n",
    "\r\n",
    "#check the connections visualy\r\n",
    "print(con)"
   ],
   "outputs": [
    {
     "output_type": "stream",
     "name": "stdout",
     "text": [
      "check\n",
      "check 2\n",
      "check 3\n",
      "[(0, 4), (1, 5), (2, 4), (3, 5), (4, 5), (6, 4), (6, 26), (6, 46), (7, 5), (7, 27), (7, 47), (8, 4), (8, 28), (8, 48), (9, 5), (9, 29), (9, 49), (10, 4), (10, 30), (10, 50), (11, 5), (11, 31), (11, 51), (12, 4), (12, 32), (12, 52), (13, 5), (13, 33), (13, 53), (14, 4), (14, 34), (14, 54), (15, 5), (15, 35), (15, 55), (16, 4), (16, 36), (17, 5), (17, 37), (18, 4), (18, 38), (19, 5), (19, 39), (20, 4), (20, 40), (21, 5), (21, 41), (22, 4), (22, 42), (23, 5), (23, 43), (24, 4), (24, 44), (25, 5), (25, 45), (6, 5), (4, 7)]\n"
     ]
    }
   ],
   "metadata": {}
  },
  {
   "cell_type": "code",
   "execution_count": 6,
   "source": [
    "#shervins piece of code from the workshop\r\n",
    "\r\n",
    "G = nx.Graph()\r\n",
    "G.add_nodes_from(point)\r\n",
    "G.add_edges_from(con)\r\n",
    "\r\n",
    "#find the size of the connection matrix\r\n",
    "Matrix_size = (num_functions, num_functions)\r\n",
    "# Make the empty connection matrix\r\n",
    "Con_matrix = np.zeros(Matrix_size, dtype=int)\r\n",
    "# iterate over the egdes\r\n",
    "for n1, n2 in con:\r\n",
    "    Con_matrix[n1, n2] = 1 \r\n",
    "    Con_matrix[n2, n1] = 1\r\n",
    "\r\n",
    "#display as pandas dataframe\r\n",
    "#display(pd.DataFrame(Con_matrix))"
   ],
   "outputs": [],
   "metadata": {}
  },
  {
   "cell_type": "code",
   "execution_count": 7,
   "source": [
    "#give all of the nodes a position\r\n",
    "positions = {}\r\n",
    "\r\n",
    "last_function = \"\"\r\n",
    "\r\n",
    "x_pos = 0\r\n",
    "y_pos = 0\r\n",
    "\r\n",
    "r = 0\r\n",
    "for func in functions:\r\n",
    "    if last_function != func:\r\n",
    "        x_pos = x_pos+500\r\n",
    "        y_pos = 0\r\n",
    "    positions[r] = (x_pos,y_pos)\r\n",
    "    last_function = func\r\n",
    "    r += 1\r\n",
    "    y_pos = y_pos+500\r\n",
    "\r\n",
    "#make a dictonary with labels for all of the functions\r\n",
    "labels = {}\r\n",
    "labels_1 =[]\r\n",
    "for w in range(num_functions):\r\n",
    "    labels[w] = function_data[w][1]\r\n",
    "    labels_1.append(function_data[w][1])\r\n",
    "\r\n",
    "#give all the nodes the correct size\r\n",
    "function_area = []\r\n",
    "for name in functions:\r\n",
    "    function_area.append(area[name])\r\n",
    "\r\n",
    "#select the options for the graph\r\n",
    "options = {\r\n",
    "    \"font_size\": 10,\r\n",
    "    \"node_size\": function_area,\r\n",
    "    \"node_color\": \"white\",\r\n",
    "    \"edgecolors\": \"grey\",\r\n",
    "    \"edge_color\": \"black\",\r\n",
    "    \"linewidths\": 3,\r\n",
    "    \"width\": 3,\r\n",
    "    \"labels\": labels,\r\n",
    "}\r\n",
    "\r\n",
    "#print the graph\r\n",
    "nx.draw_networkx(G, positions, with_labels=True, **options)"
   ],
   "outputs": [
    {
     "output_type": "display_data",
     "data": {
      "image/png": "[encoded data removed]",
      "text/plain": [
       "<Figure size 432x288 with 1 Axes>"
      ]
     },
     "metadata": {}
    }
   ],
   "metadata": {}
  },
  {
   "cell_type": "code",
   "execution_count": 8,
   "source": [
    "G = nx.Graph()\r\n",
    "\r\n",
    "for b in range(num_functions):\r\n",
    "    if function_data[b][0] == 'square':\r\n",
    "        for l in range(num_functions):\r\n",
    "            if function_data[l][0] == 'anchor':\r\n",
    "                if (b,l) in con or (l,b) in con:\r\n",
    "                    G.add_edge(function_data[b][1],function_data[l][1], weight=10)\r\n",
    "            if function_data[l][0] == 'square':\r\n",
    "                if (b,l) in con or (l,b) in con:\r\n",
    "                    G.add_edge(function_data[b][1],function_data[l][1], weight=10)\r\n",
    "            if function_data[l][0] == 'shop':\r\n",
    "                if (b,l) in con or (l,b) in con:\r\n",
    "                    G.add_edge(function_data[b][1],function_data[l][1], weight=5)\r\n",
    "    if function_data[b][0] == 'shop':\r\n",
    "        for l in range(num_functions):\r\n",
    "                if function_data[l][0] == 'workshop':\r\n",
    "                    if (b,l) in con or (l,b) in con:\r\n",
    "                        G.add_edge(function_data[b][1],function_data[l][1], weight=15)\r\n",
    "                if function_data[l][0] == 'storage':\r\n",
    "                    if (b,l) in con or (l,b) in con:\r\n",
    "                        G.add_edge(function_data[b][1],function_data[l][1], weight=15)           \r\n",
    "\r\n",
    "elarge = [(u, v) for (u, v, d) in G.edges(data=True) if d[\"weight\"] > 0.5]\r\n",
    "\r\n",
    "fixed_pos = {\r\n",
    "    \"anchor0\": (0, 0),\r\n",
    "    \"anchor1\": (240, 0),\r\n",
    "    \"anchor2\": (0, 70),\r\n",
    "    \"anchor3\": (240, 70)}\r\n",
    "\r\n",
    "fixed_nodes = fixed_pos.keys()\r\n",
    "\r\n",
    "pos_1 = nx.spring_layout(G, pos= fixed_pos, fixed= fixed_nodes, iterations=10000)"
   ],
   "outputs": [],
   "metadata": {}
  },
  {
   "cell_type": "code",
   "execution_count": 9,
   "source": [
    "#move the shops to the square's\r\n",
    "for b in range(num_functions):\r\n",
    "    if function_data[b][0] == 'shop':\r\n",
    "        if b not in dbl_shop:      \r\n",
    "            for l in range(num_functions):\r\n",
    "                if function_data[l][0] == 'square':\r\n",
    "                    if (b,l) in con or (l,b) in con:\r\n",
    "                        locsh = pos_1[function_data[b][1]]\r\n",
    "                        locsq = pos_1[function_data[l][1]]\r\n",
    "                        cur_dist = ( (locsq[0] - locsh[0])**2 + (locsq[1] - locsh[1])**2 )**0.5\r\n",
    "\r\n",
    "                        des_dist = (function_data[b][2]/np.pi)**0.5 + (function_data[l][2]/np.pi)**0.5\r\n",
    "\r\n",
    "                        dist_x = abs(locsq[0] - locsh[0])\r\n",
    "                        dist_y = abs(locsq[1] - locsh[1])\r\n",
    "\r\n",
    "                        if locsh[0] > locsq[0]:\r\n",
    "                            new_x = locsq[0]+ dist_x/(cur_dist/des_dist)\r\n",
    "                        if locsh[0] < locsq[0]:\r\n",
    "                            new_x = locsq[0]- dist_x/(cur_dist/des_dist)\r\n",
    "                        if locsh[1] > locsq[1]:\r\n",
    "                            new_y = locsq[1]+ dist_y/(cur_dist/des_dist)\r\n",
    "                        if locsh[1] < locsq[1]:\r\n",
    "                            new_y = locsq[1]- dist_y/(cur_dist/des_dist)  \r\n",
    "\r\n",
    "                        pos_1[function_data[b][1]]=(new_x, new_y)\r\n",
    "\r\n",
    "#move storage to shop\r\n",
    "for b in range(num_functions):\r\n",
    "    if function_data[b][0] == 'storage':   \r\n",
    "        for l in range(num_functions):\r\n",
    "            if function_data[l][0] == 'shop':\r\n",
    "                if (b,l) in con or (l,b) in con:\r\n",
    "                    locst = pos_1[function_data[b][1]]\r\n",
    "                    locsh = pos_1[function_data[l][1]]\r\n",
    "                    cur_dist = ( (locsh[0] - locst[0])**2 + (locsh[1] - locst[1])**2 )**0.5\r\n",
    "\r\n",
    "                    des_dist = (function_data[b][2]/np.pi)**0.5 + (function_data[l][2]/np.pi)**0.5\r\n",
    "\r\n",
    "                    dist_x = abs(locst[0] - locsh[0])\r\n",
    "                    dist_y = abs(locst[1] - locsh[1])\r\n",
    "\r\n",
    "                    if locst[0] > locsh[0]:\r\n",
    "                        new_x = locsh[0]+ dist_x/(cur_dist/des_dist)\r\n",
    "                    if locst[0] < locsh[0]:\r\n",
    "                        new_x = locsh[0]- dist_x/(cur_dist/des_dist)\r\n",
    "                    if locst[1] > locsh[1]:\r\n",
    "                        new_y = locsh[1]+ dist_y/(cur_dist/des_dist)\r\n",
    "                    if locst[1] < locsh[1]:\r\n",
    "                        new_y = locsh[1]- dist_y/(cur_dist/des_dist)  \r\n",
    "\r\n",
    "                    pos_1[function_data[b][1]]=(new_x, new_y)\r\n",
    "\r\n",
    "#move workshops to shops\r\n",
    "for b in range(num_functions):\r\n",
    "    if function_data[b][0] == 'workshop':   \r\n",
    "        for l in range(num_functions):\r\n",
    "            if function_data[l][0] == 'shop':\r\n",
    "                if (b,l) in con or (l,b) in con:\r\n",
    "                    locws = pos_1[function_data[b][1]]\r\n",
    "                    locsh = pos_1[function_data[l][1]]\r\n",
    "                    cur_dist = ( (locsh[0] - locws[0])**2 + (locsh[1] - locws[1])**2 )**0.5\r\n",
    "\r\n",
    "                    des_dist = (function_data[b][2]/np.pi)**0.5 + (function_data[l][2]/np.pi)**0.5\r\n",
    "\r\n",
    "                    dist_x = abs(locws[0] - locsh[0])\r\n",
    "                    dist_y = abs(locws[1] - locsh[1])\r\n",
    "\r\n",
    "                    if locws[0] > locsh[0]:\r\n",
    "                        new_x = locsh[0]+ dist_x/(cur_dist/des_dist)\r\n",
    "                    if locws[0] < locsh[0]:\r\n",
    "                        new_x = locsh[0]- dist_x/(cur_dist/des_dist)\r\n",
    "                    if locws[1] > locsh[1]:\r\n",
    "                        new_y = locsh[1]+ dist_y/(cur_dist/des_dist)\r\n",
    "                    if locws[1] < locsh[1]:\r\n",
    "                        new_y = locsh[1]- dist_y/(cur_dist/des_dist)  \r\n",
    "\r\n",
    "                    pos_1[function_data[b][1]]=(new_x, new_y)\r\n",
    "print(pos_1)"
   ],
   "outputs": [
    {
     "output_type": "stream",
     "name": "stdout",
     "text": [
      "{'square0': array([58.52481262, 35.17481613]), 'anchor0': array([0., 0.]), 'anchor2': array([ 0., 70.]), 'square1': array([181.53969075,  35.27057708]), 'shop0': array([120.33489793,  53.27722078]), 'shop1': array([120.02330333,  18.16316957]), 'shop2': (50.507913574120806, 53.51506767609574), 'shop4': (39.585622782753745, 28.698506574775767), 'shop6': (50.58002687192398, 16.803210958524964), 'shop8': (39.54599474319483, 41.53405894024969), 'shop10': (59.153389166816595, 15.16880731566976), 'shop12': (59.0859890875093, 55.18282897601854), 'shop14': (45.60228334993327, 50.46022532835282), 'shop16': (45.68896156147782, 19.81654719233674), 'shop18': (38.50898214624082, 35.1297874698042), 'anchor1': array([240.,   0.]), 'anchor3': array([240.,  70.]), 'shop3': (189.5294218762083, 16.91847383155145), 'shop5': (196.24321720419636, 48.851512498673245), 'shop7': (200.42139283339046, 28.628527435228488), 'shop9': (184.4323028745188, 55.07634119477693), 'shop11': (201.50370500169143, 33.830565970478226), 'shop13': (194.14323771617333, 19.721104389275112), 'shop15': (200.7829756799982, 40.777979565064456), 'shop17': (180.81451064444244, 15.267836993636326), 'shop19': (189.4280507699973, 53.66648078844038), 'storage0': (122.4138089027392, 57.68597372401051), 'workshop0': (117.6402945625103, 60.23397950165197), 'storage1': (121.97841178135661, 13.698136050661017), 'workshop1': (117.01384601034701, 11.336710317712857), 'storage2': (48.149743234370916, 57.78097977135876), 'workshop2': (48.038980608080124, 60.5550782762619), 'storage3': (191.13984127501337, 12.317873575526182), 'workshop3': (193.13249704780657, 10.385845834407693), 'storage4': (34.8685998675637, 27.470228034150935), 'workshop4': (32.75269092419377, 25.703774289991276), 'storage5': (199.58575678054487, 52.3992445258043), 'workshop5': (202.15685707837537, 53.399725629098675), 'storage6': (48.98522763652417, 12.197172665744969), 'workshop6': (46.996728765744855, 10.259713887118311), 'storage7': (204.88045930063586, 26.659847777062865), 'workshop7': (207.63407347200132, 26.722060218971635), 'storage8': (34.821175719840525, 42.73199823434465), 'workshop8': (32.693931858221916, 44.484756054768724), 'storage9': (185.62889842879852, 59.801500709043665), 'workshop9': (184.96272148240772, 62.51784879348699), 'storage10': (59.3340165625187, 10.297837484136277), 'storage11': (206.37486857011527, 33.65524099950196), 'storage12': (59.24843178285867, 60.05443915403105), 'storage13': (197.289261531619, 15.997999836830166), 'storage14': (42.38446588940127, 54.12145792769458), 'storage15': (205.48395518508198, 42.06629825567241), 'storage16': (42.49636751452885, 16.133299086768307), 'storage17': (180.62132088360286, 10.397349228320186), 'storage18': (33.634679203949, 35.11777986584725), 'storage19': (191.50339322277654, 58.07691467406657)}\n"
     ]
    }
   ],
   "metadata": {}
  },
  {
   "cell_type": "code",
   "execution_count": 10,
   "source": [
    "pos_keys = [*pos_1]\r\n",
    "p = len(pos_keys)\r\n",
    "ordered_area = []\r\n",
    "ordered_func = []\r\n",
    "for i in range(p):\r\n",
    "    index = labels_1.index(pos_keys[i])\r\n",
    "    ordered_area.append(function_data[index][2])\r\n",
    "    ordered_func.append(function_data[index][0])\r\n",
    "\r\n",
    "#colors\r\n",
    "color_func = {\r\n",
    "\"shop\" : \"red\",\r\n",
    "\"square\" : \"blue\",\r\n",
    "\"workshop\" : \"orange\",\r\n",
    "\"storage\" : \"purple\",\r\n",
    "\"anchor\" : \"black\"\r\n",
    "}\r\n",
    "color_list = []\r\n",
    "for func in ordered_func:\r\n",
    "    color_list.append(color_func[func])\r\n",
    "\r\n",
    "\r\n",
    "# nodes\r\n",
    "nx.draw_networkx_nodes(G, pos_1,node_size=ordered_area, node_color=color_list)\r\n",
    "# edges\r\n",
    "nx.draw_networkx_edges(G, pos_1, edgelist=elarge, width=1, edge_color=\"grey\")\r\n",
    "# labels\r\n",
    "#nx.draw_networkx_labels(G, pos_1, font_size=10, font_family=\"sans-serif\", font_color=\"black\")\r\n"
   ],
   "outputs": [
    {
     "output_type": "execute_result",
     "data": {
      "text/plain": [
       "<matplotlib.collections.LineCollection at 0x20a50b7d250>"
      ]
     },
     "metadata": {},
     "execution_count": 10
    },
    {
     "output_type": "display_data",
     "data": {
      "image/png": "[encoded data removed]",
      "text/plain": [
       "<Figure size 432x288 with 1 Axes>"
      ]
     },
     "metadata": {}
    }
   ],
   "metadata": {}
  },
  {
   "cell_type": "code",
   "execution_count": 11,
   "source": [
    "import json"
   ],
   "outputs": [],
   "metadata": {}
  },
  {
   "cell_type": "code",
   "execution_count": 23,
   "source": [
    "new_pos_1 = {}\r\n",
    "pos_1_list = []\r\n",
    "for k, v in pos_1.items():\r\n",
    "    new_pos_1[k] = tuple(v)\r\n",
    "    pos_1_list.append(tuple(v))\r\n",
    "\r\n",
    "pos_1_arr = np.array(pos_1_list)"
   ],
   "outputs": [],
   "metadata": {}
  },
  {
   "cell_type": "code",
   "execution_count": 21,
   "source": [
    "json.dump(\"points.json\", new_pos_1)"
   ],
   "outputs": [
    {
     "output_type": "error",
     "ename": "AttributeError",
     "evalue": "'dict' object has no attribute 'write'",
     "traceback": [
      "\u001b[1;31m---------------------------------------------------------------------------\u001b[0m",
      "\u001b[1;31mAttributeError\u001b[0m                            Traceback (most recent call last)",
      "\u001b[1;32m~\\AppData\\Local\\Temp/ipykernel_3864/1240314869.py\u001b[0m in \u001b[0;36m<module>\u001b[1;34m\u001b[0m\n\u001b[1;32m----> 1\u001b[1;33m \u001b[0mjson\u001b[0m\u001b[1;33m.\u001b[0m\u001b[0mdump\u001b[0m\u001b[1;33m(\u001b[0m\u001b[1;34m\"points.json\"\u001b[0m\u001b[1;33m,\u001b[0m \u001b[0mnew_pos_1\u001b[0m\u001b[1;33m)\u001b[0m\u001b[1;33m\u001b[0m\u001b[1;33m\u001b[0m\u001b[0m\n\u001b[0m",
      "\u001b[1;32mC:\\ProgramData\\Anaconda3\\envs\\earthy\\lib\\json\\__init__.py\u001b[0m in \u001b[0;36mdump\u001b[1;34m(obj, fp, skipkeys, ensure_ascii, check_circular, allow_nan, cls, indent, separators, default, sort_keys, **kw)\u001b[0m\n\u001b[0;32m    178\u001b[0m     \u001b[1;31m# a debuggability cost\u001b[0m\u001b[1;33m\u001b[0m\u001b[1;33m\u001b[0m\u001b[1;33m\u001b[0m\u001b[0m\n\u001b[0;32m    179\u001b[0m     \u001b[1;32mfor\u001b[0m \u001b[0mchunk\u001b[0m \u001b[1;32min\u001b[0m \u001b[0miterable\u001b[0m\u001b[1;33m:\u001b[0m\u001b[1;33m\u001b[0m\u001b[1;33m\u001b[0m\u001b[0m\n\u001b[1;32m--> 180\u001b[1;33m         \u001b[0mfp\u001b[0m\u001b[1;33m.\u001b[0m\u001b[0mwrite\u001b[0m\u001b[1;33m(\u001b[0m\u001b[0mchunk\u001b[0m\u001b[1;33m)\u001b[0m\u001b[1;33m\u001b[0m\u001b[1;33m\u001b[0m\u001b[0m\n\u001b[0m\u001b[0;32m    181\u001b[0m \u001b[1;33m\u001b[0m\u001b[0m\n\u001b[0;32m    182\u001b[0m \u001b[1;33m\u001b[0m\u001b[0m\n",
      "\u001b[1;31mAttributeError\u001b[0m: 'dict' object has no attribute 'write'"
     ]
    }
   ],
   "metadata": {}
  },
  {
   "cell_type": "code",
   "execution_count": 26,
   "source": [
    "np.savetxt(\"points\", pos_1_arr)"
   ],
   "outputs": [],
   "metadata": {}
  },
  {
   "cell_type": "code",
   "execution_count": null,
   "source": [],
   "outputs": [],
   "metadata": {}
  }
 ],
 "metadata": {
  "orig_nbformat": 4,
  "language_info": {
   "name": "python",
   "version": "3.8.5",
   "mimetype": "text/x-python",
   "codemirror_mode": {
    "name": "ipython",
    "version": 3
   },
   "pygments_lexer": "ipython3",
   "nbconvert_exporter": "python",
   "file_extension": ".py"
  },
  "kernelspec": {
   "name": "python3",
   "display_name": "Python 3.8.5 64-bit ('earthy': conda)"
  },
  "interpreter": {
   "hash": "4a58c2309791fb0e918c70afdff47f4c1510753c34c4dbd916b25e7d0c14133b"
  }
 },
 "nbformat": 4,
 "nbformat_minor": 2
}